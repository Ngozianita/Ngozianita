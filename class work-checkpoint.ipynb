{
 "cells": [
  {
   "cell_type": "code",
   "execution_count": 1,
   "id": "908e4342",
   "metadata": {},
   "outputs": [
    {
     "name": "stdout",
     "output_type": "stream",
     "text": [
      "Hello world\n"
     ]
    }
   ],
   "source": [
    "print('Hello world')"
   ]
  },
  {
   "cell_type": "code",
   "execution_count": 2,
   "id": "029d8d98",
   "metadata": {},
   "outputs": [
    {
     "name": "stdout",
     "output_type": "stream",
     "text": [
      "My name is Anita\n"
     ]
    }
   ],
   "source": [
    "print('My name is Anita')"
   ]
  },
  {
   "cell_type": "code",
   "execution_count": 40,
   "id": "6716ac1b",
   "metadata": {},
   "outputs": [],
   "source": [
    "text = 5/6\n",
    "text = 5+37\n",
    "text = text + 54"
   ]
  },
  {
   "cell_type": "code",
   "execution_count": 41,
   "id": "60872a3f",
   "metadata": {},
   "outputs": [
    {
     "name": "stdout",
     "output_type": "stream",
     "text": [
      "96\n"
     ]
    }
   ],
   "source": [
    "print(text)"
   ]
  },
  {
   "cell_type": "code",
   "execution_count": 34,
   "id": "bd73374e",
   "metadata": {},
   "outputs": [],
   "source": [
    "afa = 'glowrie, 7'"
   ]
  },
  {
   "cell_type": "code",
   "execution_count": 35,
   "id": "b2e46a55",
   "metadata": {},
   "outputs": [
    {
     "name": "stdout",
     "output_type": "stream",
     "text": [
      "glowrie, 7\n"
     ]
    }
   ],
   "source": [
    "print(afa)"
   ]
  },
  {
   "cell_type": "code",
   "execution_count": 51,
   "id": "cfe75326",
   "metadata": {},
   "outputs": [
    {
     "ename": "SyntaxError",
     "evalue": "invalid syntax (3528230389.py, line 2)",
     "output_type": "error",
     "traceback": [
      "\u001b[1;36m  Input \u001b[1;32mIn [51]\u001b[1;36m\u001b[0m\n\u001b[1;33m    it is represented with [] square bracket.\u001b[0m\n\u001b[1;37m                      ^\u001b[0m\n\u001b[1;31mSyntaxError\u001b[0m\u001b[1;31m:\u001b[0m invalid syntax\n"
     ]
    }
   ],
   "source": [
    "#list: It is an ordered sequence of items. it allows duplicates, it is flexible, changeable and do not need to be of the same type.\n",
    "it is represented with [] square bracket.\n",
    "\n",
    "\n"
   ]
  },
  {
   "cell_type": "code",
   "execution_count": 87,
   "id": "437ce145",
   "metadata": {},
   "outputs": [],
   "source": [
    "A = [5.5,1,'twinkas','nkechi',56,98.12,'to', 'garri']\n",
    "\n"
   ]
  },
  {
   "cell_type": "code",
   "execution_count": 88,
   "id": "06b14323",
   "metadata": {},
   "outputs": [
    {
     "name": "stdout",
     "output_type": "stream",
     "text": [
      "[5.5, 1, 'twinkas', 'nkechi', 56, 98.12, 'to', 'garri']\n"
     ]
    }
   ],
   "source": [
    "print(A)"
   ]
  },
  {
   "cell_type": "code",
   "execution_count": 89,
   "id": "88e87ec1",
   "metadata": {},
   "outputs": [
    {
     "name": "stdout",
     "output_type": "stream",
     "text": [
      "8\n"
     ]
    }
   ],
   "source": [
    "print(len(A))"
   ]
  },
  {
   "cell_type": "code",
   "execution_count": 90,
   "id": "14c1fed3",
   "metadata": {},
   "outputs": [
    {
     "name": "stdout",
     "output_type": "stream",
     "text": [
      "nkechi\n"
     ]
    }
   ],
   "source": [
    "print(A[3])"
   ]
  },
  {
   "cell_type": "code",
   "execution_count": 91,
   "id": "c99ceea3",
   "metadata": {},
   "outputs": [],
   "source": [
    "A[3] = 'garri'"
   ]
  },
  {
   "cell_type": "code",
   "execution_count": 92,
   "id": "d4cb56e2",
   "metadata": {},
   "outputs": [
    {
     "name": "stdout",
     "output_type": "stream",
     "text": [
      "[5.5, 1, 'twinkas', 'garri', 56, 98.12, 'to', 'garri']\n"
     ]
    }
   ],
   "source": [
    "print(A)"
   ]
  },
  {
   "cell_type": "code",
   "execution_count": 93,
   "id": "c9f52a49",
   "metadata": {},
   "outputs": [
    {
     "data": {
      "text/plain": [
       "[5.5, 1]"
      ]
     },
     "execution_count": 93,
     "metadata": {},
     "output_type": "execute_result"
    }
   ],
   "source": [
    "A[:2]"
   ]
  },
  {
   "cell_type": "code",
   "execution_count": 94,
   "id": "44279db7",
   "metadata": {},
   "outputs": [
    {
     "data": {
      "text/plain": [
       "[56, 98.12, 'to', 'garri']"
      ]
     },
     "execution_count": 94,
     "metadata": {},
     "output_type": "execute_result"
    }
   ],
   "source": [
    "A[4:]"
   ]
  },
  {
   "cell_type": "code",
   "execution_count": 96,
   "id": "1fef03a2",
   "metadata": {},
   "outputs": [
    {
     "data": {
      "text/plain": [
       "['twinkas', 'garri', 56]"
      ]
     },
     "execution_count": 96,
     "metadata": {},
     "output_type": "execute_result"
    }
   ],
   "source": [
    "A[2:5]"
   ]
  },
  {
   "cell_type": "code",
   "execution_count": null,
   "id": "0713ccee",
   "metadata": {},
   "outputs": [],
   "source": [
    "#Tuple: It is an ordered sequence of items same as list. They only difference is that it is IMMUTABLE i.e it cannot be modified\n",
    "         once created. It is represented with parenthesis ()"
   ]
  },
  {
   "cell_type": "code",
   "execution_count": 100,
   "id": "dcf83f1a",
   "metadata": {},
   "outputs": [],
   "source": [
    "Jagaban = ('old', 'drug lord', 15, 18)"
   ]
  },
  {
   "cell_type": "code",
   "execution_count": 102,
   "id": "171a4ddd",
   "metadata": {},
   "outputs": [
    {
     "name": "stdout",
     "output_type": "stream",
     "text": [
      "('old', 'drug lord', 15, 18)\n"
     ]
    }
   ],
   "source": [
    "print (Jagaban) "
   ]
  },
  {
   "cell_type": "code",
   "execution_count": 105,
   "id": "77bbd23f",
   "metadata": {},
   "outputs": [
    {
     "data": {
      "text/plain": [
       "15"
      ]
     },
     "execution_count": 105,
     "metadata": {},
     "output_type": "execute_result"
    }
   ],
   "source": [
    "Jagaban[2] #indexing"
   ]
  },
  {
   "cell_type": "code",
   "execution_count": 106,
   "id": "fe894792",
   "metadata": {},
   "outputs": [
    {
     "data": {
      "text/plain": [
       "('drug lord', 15, 18)"
      ]
     },
     "execution_count": 106,
     "metadata": {},
     "output_type": "execute_result"
    }
   ],
   "source": [
    "Jagaban[1:] #To print out range"
   ]
  },
  {
   "cell_type": "code",
   "execution_count": 107,
   "id": "2d76f669",
   "metadata": {},
   "outputs": [
    {
     "ename": "TypeError",
     "evalue": "'tuple' object does not support item assignment",
     "output_type": "error",
     "traceback": [
      "\u001b[1;31m---------------------------------------------------------------------------\u001b[0m",
      "\u001b[1;31mTypeError\u001b[0m                                 Traceback (most recent call last)",
      "Input \u001b[1;32mIn [107]\u001b[0m, in \u001b[0;36m<cell line: 1>\u001b[1;34m()\u001b[0m\n\u001b[1;32m----> 1\u001b[0m Jagaban[\u001b[38;5;241m1\u001b[39m] \u001b[38;5;241m=\u001b[39m \u001b[38;5;241m5\u001b[39m\n",
      "\u001b[1;31mTypeError\u001b[0m: 'tuple' object does not support item assignment"
     ]
    }
   ],
   "source": [
    "Jagaban[1] = 5"
   ]
  },
  {
   "cell_type": "code",
   "execution_count": null,
   "id": "d80d3f27",
   "metadata": {},
   "outputs": [],
   "source": []
  }
 ],
 "metadata": {
  "kernelspec": {
   "display_name": "Python 3 (ipykernel)",
   "language": "python",
   "name": "python3"
  },
  "language_info": {
   "codemirror_mode": {
    "name": "ipython",
    "version": 3
   },
   "file_extension": ".py",
   "mimetype": "text/x-python",
   "name": "python",
   "nbconvert_exporter": "python",
   "pygments_lexer": "ipython3",
   "version": "3.9.12"
  }
 },
 "nbformat": 4,
 "nbformat_minor": 5
}

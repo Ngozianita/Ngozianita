{
 "cells": [
  {
   "cell_type": "code",
   "execution_count": 4,
   "id": "cebdd338",
   "metadata": {},
   "outputs": [
    {
     "name": "stdout",
     "output_type": "stream",
     "text": [
      "1.21.5\n"
     ]
    }
   ],
   "source": [
    "import numpy as np\n",
    "print(np.__version__)\n"
   ]
  },
  {
   "cell_type": "code",
   "execution_count": 6,
   "id": "9eecde0f",
   "metadata": {},
   "outputs": [
    {
     "name": "stdout",
     "output_type": "stream",
     "text": [
      "[3.  7.  8.  9.  0.8]\n",
      "<class 'numpy.ndarray'>\n"
     ]
    }
   ],
   "source": [
    "arr = np.array([3,7,8,9,0.8])\n",
    "print(arr)\n",
    "print(type(arr))"
   ]
  },
  {
   "cell_type": "code",
   "execution_count": 7,
   "id": "ebad77a9",
   "metadata": {},
   "outputs": [
    {
     "name": "stdout",
     "output_type": "stream",
     "text": [
      "65\n"
     ]
    }
   ],
   "source": [
    "#Dimensions in array is one level of array depth(nested array) 0-D(zero) Dimension array is a scalar and can hold only one value. example\n",
    "arr = np.array(65)\n",
    "print(arr)"
   ]
  },
  {
   "cell_type": "code",
   "execution_count": 9,
   "id": "d390fa2e",
   "metadata": {},
   "outputs": [
    {
     "name": "stdout",
     "output_type": "stream",
     "text": [
      "[ 3.   8.   0.7 45.  11. ]\n"
     ]
    }
   ],
   "source": [
    "#1-D(Dimension) array contains more than one value.\n",
    "arr =np.array([3,8,0.7,45,11])\n",
    "print(arr)"
   ]
  },
  {
   "cell_type": "code",
   "execution_count": 24,
   "id": "c27003bf",
   "metadata": {},
   "outputs": [
    {
     "name": "stdout",
     "output_type": "stream",
     "text": [
      "[[7 5 8]\n",
      " [3 6 9]]\n"
     ]
    }
   ],
   "source": [
    "#2-D(Dimension) array: An array that has 1-D array as its element is called a 2-D array. These are often used to represent matrics or 2nd order tensors. Example\n",
    "#create a 2-D array containing two arrays with the values 7,5,8 and 3,6,9\n",
    "arr = np.array([[7,5,8], [3,6,9]])\n",
    "print(arr)"
   ]
  },
  {
   "cell_type": "code",
   "execution_count": 22,
   "id": "78590a88",
   "metadata": {},
   "outputs": [
    {
     "data": {
      "text/plain": [
       "array([[ 5,  1,  3,  7],\n",
       "       [ 8,  9, 32,  4],\n",
       "       [ 6,  4,  3,  7]])"
      ]
     },
     "execution_count": 22,
     "metadata": {},
     "output_type": "execute_result"
    }
   ],
   "source": [
    "#3-DIMENSION array\n",
    "dim3 = np.array([[5,1,3,7],[8,9,32,4],[6,4,3,7]])\n",
    "dim3"
   ]
  },
  {
   "cell_type": "code",
   "execution_count": 29,
   "id": "7b8144ca",
   "metadata": {},
   "outputs": [
    {
     "name": "stdout",
     "output_type": "stream",
     "text": [
      "53.0\n"
     ]
    }
   ],
   "source": [
    "\"\"\"\n",
    "NUMPY ARRAY INDEXING\n",
    "It is the same as accessing a list elemen\n",
    "An array element can be accessed by refering to its index number\n",
    "\n",
    "\"\"\"\n",
    "arr = np.array([3,8,0.7,45,11])\n",
    "print(arr[3]+arr[1])"
   ]
  },
  {
   "cell_type": "code",
   "execution_count": 30,
   "id": "71031536",
   "metadata": {},
   "outputs": [
    {
     "data": {
      "text/plain": [
       "array([[ 5,  1,  3,  7],\n",
       "       [ 8,  9, 32,  4],\n",
       "       [ 6,  4,  3,  7]])"
      ]
     },
     "execution_count": 30,
     "metadata": {},
     "output_type": "execute_result"
    }
   ],
   "source": [
    "\"\"\"\n",
    "To access elements from 2-D arrays, we can use comma separated integers representing the dimension and the index of the element.\n",
    "Think of 2-D arrays like a table with rows and column, where the row represent the dimension and the index represent the column\n",
    "\n",
    "\"\"\"\n",
    "dim3 = np.array([[5,1,3,7],[8,9,32,4],[6,4,3,7]])\n",
    "dim3"
   ]
  },
  {
   "cell_type": "code",
   "execution_count": 45,
   "id": "752b394a",
   "metadata": {},
   "outputs": [
    {
     "name": "stdout",
     "output_type": "stream",
     "text": [
      "32\n"
     ]
    }
   ],
   "source": [
    "print(dim3[1,2])"
   ]
  },
  {
   "cell_type": "code",
   "execution_count": 48,
   "id": "6c24be16",
   "metadata": {},
   "outputs": [
    {
     "name": "stdout",
     "output_type": "stream",
     "text": [
      "[[[ 1  2  3]\n",
      "  [ 4  5  6]]\n",
      "\n",
      " [[ 7  8  9]\n",
      "  [10 11 13]]]\n"
     ]
    }
   ],
   "source": [
    "#MATRICS\n",
    "arr = np.array([[[1,2,3],[4,5,6]],[[7,8,9],[10,11,13]]])\n",
    "print(arr)\n"
   ]
  },
  {
   "cell_type": "code",
   "execution_count": 51,
   "id": "df2a161c",
   "metadata": {},
   "outputs": [
    {
     "data": {
      "text/plain": [
       "6"
      ]
     },
     "execution_count": 51,
     "metadata": {},
     "output_type": "execute_result"
    }
   ],
   "source": [
    "arr[0,1,2]"
   ]
  },
  {
   "cell_type": "code",
   "execution_count": 3,
   "id": "fc7762a4",
   "metadata": {},
   "outputs": [],
   "source": [
    "import numpy as np"
   ]
  },
  {
   "cell_type": "code",
   "execution_count": 4,
   "id": "3bf4bfdd",
   "metadata": {},
   "outputs": [
    {
     "name": "stdout",
     "output_type": "stream",
     "text": [
      "[[[ 1  2  3]\n",
      "  [ 4  5  6]]\n",
      "\n",
      " [[ 7  8  9]\n",
      "  [10 11 13]]]\n"
     ]
    }
   ],
   "source": [
    "arr = np.array([[[1,2,3],[4,5,6]],[[7,8,9],[10,11,13]]])\n",
    "print(arr)\n"
   ]
  },
  {
   "cell_type": "code",
   "execution_count": 5,
   "id": "7a38c76b",
   "metadata": {},
   "outputs": [
    {
     "data": {
      "text/plain": [
       "1"
      ]
     },
     "execution_count": 5,
     "metadata": {},
     "output_type": "execute_result"
    }
   ],
   "source": [
    "arr[0,0,0]"
   ]
  },
  {
   "cell_type": "code",
   "execution_count": null,
   "id": "91a578c1",
   "metadata": {},
   "outputs": [],
   "source": [
    "\"\"\"\n",
    "BOOLEAN INDEXING: Numpy allows you to use an array of boolean values as an index of array. Each element of the boolean array\n",
    "indicates whether to select the elements from the array.\n",
    "O"
   ]
  }
 ],
 "metadata": {
  "kernelspec": {
   "display_name": "Python 3 (ipykernel)",
   "language": "python",
   "name": "python3"
  },
  "language_info": {
   "codemirror_mode": {
    "name": "ipython",
    "version": 3
   },
   "file_extension": ".py",
   "mimetype": "text/x-python",
   "name": "python",
   "nbconvert_exporter": "python",
   "pygments_lexer": "ipython3",
   "version": "3.9.12"
  }
 },
 "nbformat": 4,
 "nbformat_minor": 5
}

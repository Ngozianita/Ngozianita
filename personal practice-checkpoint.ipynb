{
 "cells": [
  {
   "cell_type": "code",
   "execution_count": 2,
   "id": "a48c160c",
   "metadata": {},
   "outputs": [
    {
     "data": {
      "text/plain": [
       "5"
      ]
     },
     "execution_count": 2,
     "metadata": {},
     "output_type": "execute_result"
    }
   ],
   "source": [
    "len ('value')"
   ]
  },
  {
   "cell_type": "code",
   "execution_count": 1,
   "id": "b20570d8",
   "metadata": {},
   "outputs": [
    {
     "name": "stdout",
     "output_type": "stream",
     "text": [
      "4.3\n"
     ]
    }
   ],
   "source": [
    "row_1 = ['Facebook', 0.0, 'USD', 2974676, 3.5]\n",
    "row_2 = ['Instagram', 0.0, 'USD', 2161558, 4.5]\n",
    "row_3 = ['Clash of Clans', 0.0, 'USD', 2130805, 4.5]\n",
    "row_4 = ['Fruit Ninja Classic', 1.99, 'USD', 698516, 4.5]\n",
    "row_5 = ['Minecraft: Pocket Edition', 6.99, 'USD', 522012, 4.5]\n",
    "\n",
    "app_data_set = [row_1, row_2, row_3, row_4, row_5]\n",
    "avg_rating = (app_data_set[0][-1] + app_data_set[1][-1] +\n",
    "              app_data_set[2][-1] + app_data_set[3][-1] +\n",
    "              app_data_set[4][-1]) / 5\n",
    "\n",
    "print(avg_rating)"
   ]
  },
  {
   "cell_type": "code",
   "execution_count": 1,
   "id": "cadc7b70",
   "metadata": {},
   "outputs": [
    {
     "name": "stdout",
     "output_type": "stream",
     "text": [
      "['Facebook', 0.0, 'USD', 2974676, 3.5]\n",
      "<class 'list'>\n"
     ]
    }
   ],
   "source": [
    "#LISTS\n",
    "row_1 = ['Facebook', 0.0, 'USD', 2974676, 3.5]\n",
    "print(row_1)\n",
    "print(type(row_1))"
   ]
  },
  {
   "cell_type": "code",
   "execution_count": 3,
   "id": "778a718c",
   "metadata": {},
   "outputs": [
    {
     "name": "stdout",
     "output_type": "stream",
     "text": [
      "1.99\n",
      "20.97\n"
     ]
    }
   ],
   "source": [
    "personal_apps = 0\n",
    "personal_apps += 1.99\n",
    "gift_apps = 6.99\n",
    "gift_apps *= 3\n",
    "print(personal_apps)\n",
    "print(gift_apps)"
   ]
  },
  {
   "cell_type": "code",
   "execution_count": 2,
   "id": "eafcc2a0",
   "metadata": {},
   "outputs": [
    {
     "name": "stdout",
     "output_type": "stream",
     "text": [
      "5\n",
      "0\n",
      "5\n",
      "0\n"
     ]
    }
   ],
   "source": [
    "#LEN FUNCTION is used to know the length Data points in a list.\n",
    "\n",
    "row_2 = ['Instagram', 0.0, 'USD', 2161558, 4.5]\n",
    "empty_row = []\n",
    "print(len(row_2))\n",
    "print(len(empty_row))\n",
    "row_2_length = 5\n",
    "empty_row_length = 0\n",
    "print(row_2_length)\n",
    "print(empty_row_length)"
   ]
  },
  {
   "cell_type": "code",
   "execution_count": 5,
   "id": "1971ae3e",
   "metadata": {},
   "outputs": [
    {
     "data": {
      "text/plain": [
       "55"
      ]
     },
     "execution_count": 5,
     "metadata": {},
     "output_type": "execute_result"
    }
   ],
   "source": [
    "int(55.8)"
   ]
  },
  {
   "cell_type": "code",
   "execution_count": 3,
   "id": "82cad44f",
   "metadata": {},
   "outputs": [
    {
     "name": "stdout",
     "output_type": "stream",
     "text": [
      "3.5\n",
      "4.5\n",
      "4.5\n",
      "7267039\n",
      "2422346.3333333335\n"
     ]
    }
   ],
   "source": [
    "#INDEXING is used to call an element in a list.In Python, we have two indexing systems for lists:\n",
    "\n",
    "#Positive indexing: the first element has the index number 0, the second element has the index number 1, and so on.\n",
    "#Negative indexing: the last element has the index number -1, the second to last element has the index number -2, and so on.\n",
    "\n",
    "row_1 = ['Facebook', 0.0, 'USD', 2974676, 3.5]\n",
    "row_2 = ['Instagram', 0.0, 'USD', 2161558, 4.5]\n",
    "row_3 = ['Clash of Clans', 0.0, 'USD', 2130805, 4.5]\n",
    "print(row_1[4])\n",
    "print(row_2[4])\n",
    "print(row_3[4])\n",
    "ratings_1 = 2974676\n",
    "ratings_2 = 2161558\n",
    "ratings_3 = 2130805\n",
    "total = 2974676 + 2161558 + 2130805\n",
    "print(total)\n",
    "average = (total)/3\n",
    "print(average)"
   ]
  },
  {
   "cell_type": "code",
   "execution_count": 4,
   "id": "6cee5002",
   "metadata": {},
   "outputs": [
    {
     "name": "stdout",
     "output_type": "stream",
     "text": [
      "12.5\n",
      "4.166666666666667\n"
     ]
    }
   ],
   "source": [
    "#Negative Indexing\n",
    "\n",
    "row_1 = ['Facebook', 0.0, 'USD', 2974676, 3.5]\n",
    "row_2 = ['Instagram', 0.0, 'USD', 2161558, 4.5]\n",
    "row_3 = ['Clash of Clans', 0.0, 'USD', 2130805, 4.5]\n",
    "rating_1 = row_1[-1]\n",
    "rating_2 = row_2[-1]\n",
    "rating_3 = row_3[-1]\n",
    "total_rating = 3.5 + 4.5 + 4.5\n",
    "print(total_rating)\n",
    "average_rating = (total_rating)/3\n",
    "print(average_rating)"
   ]
  },
  {
   "cell_type": "code",
   "execution_count": 7,
   "id": "5aa210aa",
   "metadata": {},
   "outputs": [
    {
     "name": "stdout",
     "output_type": "stream",
     "text": [
      "['Facebook', 2974676, 3.5]\n"
     ]
    }
   ],
   "source": [
    "row_1 = ['Facebook', 0.0, 'USD', 2974676, 3.5]\n",
    "\n",
    "fb_rating_data = [row_1[0], row_1[3], row_1[-1]]\n",
    "print(fb_rating_data)"
   ]
  },
  {
   "cell_type": "code",
   "execution_count": 8,
   "id": "9f8f5b74",
   "metadata": {},
   "outputs": [
    {
     "name": "stdout",
     "output_type": "stream",
     "text": [
      "12.5\n",
      "4.166666666666667\n"
     ]
    }
   ],
   "source": [
    "#INDEXING CONTD\n",
    "row_1 = ['Facebook', 0.0, 'USD', 2974676, 3.5]\n",
    "row_2 = ['Instagram', 0.0, 'USD', 2161558, 4.5]\n",
    "row_3 = ['Clash of Clans', 0.0, 'USD', 2130805, 4.5]\n",
    "row_4 = ['Fruit Ninja Classic', 1.99, 'USD', 698516, 4.5]\n",
    "row_5 = ['Minecraft: Pocket Edition', 6.99, 'USD', 522012, 4.5]\n",
    "fb_rating_data = [row_1[0], row_1[-2], row_1[-1]]\n",
    "insta_rating_data = [row_2[0], row_2[-2], row_3[-1]]\n",
    "minecraft_rating_data = [row_5[0], row_5[-2], row_5[-1]]\n",
    "total_rating = row_1[-1] + row_2[-1] + row_5[-1]\n",
    "print(total_rating)\n",
    "average_rating = total_rating/3\n",
    "print(average_rating)\n"
   ]
  },
  {
   "cell_type": "code",
   "execution_count": 12,
   "id": "d55d7fc2",
   "metadata": {},
   "outputs": [
    {
     "name": "stdout",
     "output_type": "stream",
     "text": [
      "['USD', 2974676, 3.5]\n",
      "['USD', 522012]\n"
     ]
    }
   ],
   "source": [
    "#LIST SLICING\n",
    "row_1 = ['Facebook', 0.0, 'USD', 2974676, 3.5]\n",
    "row_2 = ['Instagram', 0.0, 'USD', 2161558, 4.5]\n",
    "row_3 = ['Clash of Clans', 0.0, 'USD', 2130805, 4.5]\n",
    "row_4 = ['Fruit Ninja Classic', 1.99, 'USD', 698516, 4.5]\n",
    "row_5 = ['Minecraft: Pocket Edition', 6.99, 'USD', 522012, 4.5]\n",
    "\n",
    "row_1 = ['Facebook', 0.0, 'USD', 2974676, 3.5]\n",
    "row_2 = ['Instagram', 0.0, 'USD', 2161558, 4.5]\n",
    "row_3 = ['Clash of Clans', 0.0, 'USD', 2130805, 4.5]\n",
    "row_4 = ['Fruit Ninja Classic', 1.99, 'USD', 698516, 4.5]\n",
    "row_5 = ['Minecraft: Pocket Edition', 6.99, 'USD', 522012, 4.5]\n",
    "last_3_fb = (row_1[-3:])\n",
    "minecraft_3_4 = (row_5[2:-1])\n",
    "print(last_3_fb)\n",
    "print(minecraft_3_4)"
   ]
  },
  {
   "cell_type": "code",
   "execution_count": 13,
   "id": "ab8049bb",
   "metadata": {},
   "outputs": [
    {
     "name": "stdout",
     "output_type": "stream",
     "text": [
      "[['Clash of Clans', 0.0, 'USD', 2130805, 4.5], ['Fruit Ninja Classic', 1.99, 'USD', 698516, 4.5], ['Minecraft: Pocket Edition', 6.99, 'USD', 522012, 4.5]]\n"
     ]
    }
   ],
   "source": [
    "#LIST OF LISTS is a list that contains other lists\n",
    "\n",
    "row_1 = ['Facebook', 0.0, 'USD', 2974676, 3.5]\n",
    "row_2 = ['Instagram', 0.0, 'USD', 2161558, 4.5]\n",
    "row_3 = ['Clash of Clans', 0.0, 'USD', 2130805, 4.5]\n",
    "row_4 = ['Fruit Ninja Classic', 1.99, 'USD', 698516, 4.5]\n",
    "row_5 = ['Minecraft: Pocket Edition', 6.99, 'USD', 522012, 4.5]\n",
    "games_apps = [row_3, row_4, row_5]\n",
    "print(games_apps)\n"
   ]
  },
  {
   "cell_type": "code",
   "execution_count": 14,
   "id": "f9dbbc97",
   "metadata": {},
   "outputs": [
    {
     "name": "stdout",
     "output_type": "stream",
     "text": [
      "4.3\n"
     ]
    }
   ],
   "source": [
    "#LIST OF LISTS SLICING\n",
    "\n",
    "row_1 = ['Facebook', 0.0, 'USD', 2974676, 3.5]\n",
    "row_2 = ['Instagram', 0.0, 'USD', 2161558, 4.5]\n",
    "row_3 = ['Clash of Clans', 0.0, 'USD', 2130805, 4.5]\n",
    "row_4 = ['Fruit Ninja Classic', 1.99, 'USD', 698516, 4.5]\n",
    "row_5 = ['Minecraft: Pocket Edition', 6.99, 'USD', 522012, 4.5]\n",
    "app_data_set = [row_1, row_2, row_3, row_4, row_5]\n",
    "avg_rating = (app_data_set[0][-1] + (app_data_set[1][-1] + (app_data_set[2][-1] + (app_data_set[3][-1] + (app_data_set[4][-1]))))) / 5\n",
    "print(avg_rating)"
   ]
  },
  {
   "cell_type": "code",
   "execution_count": null,
   "id": "e534c549",
   "metadata": {},
   "outputs": [],
   "source": []
  },
  {
   "cell_type": "code",
   "execution_count": 6,
   "id": "0d9de7b0",
   "metadata": {},
   "outputs": [
    {
     "name": "stdout",
     "output_type": "stream",
     "text": [
      "five is greater than two\n"
     ]
    }
   ],
   "source": [
    "if 5 > 2:\n",
    "    print(\"five is greater than two\")"
   ]
  },
  {
   "cell_type": "code",
   "execution_count": 8,
   "id": "c54e63e7",
   "metadata": {},
   "outputs": [
    {
     "name": "stdout",
     "output_type": "stream",
     "text": [
      "Facebook's new motto is \"move fast with stable infra\".\n"
     ]
    }
   ],
   "source": [
    "motto = 'Facebook\\'s new motto is \"move fast with stable infra\".'\n",
    "print(motto)"
   ]
  },
  {
   "cell_type": "code",
   "execution_count": 10,
   "id": "40bedac2",
   "metadata": {},
   "outputs": [
    {
     "name": "stdout",
     "output_type": "stream",
     "text": [
      "ab\n",
      "a b\n",
      "Thisisasentence.\n",
      "This is a sentence.\n"
     ]
    },
    {
     "data": {
      "text/plain": [
       "' We call the process of linking two or more strings together concatenation.\\nWe can also concatenate a string with one or more copies\\nof itself using the * operator followed by a number that specifies how many times to multiply the string: '"
      ]
     },
     "execution_count": 10,
     "metadata": {},
     "output_type": "execute_result"
    }
   ],
   "source": [
    "#concatenation: When we have two or more distinct strings, it's possible to link them using the + operator:\n",
    "\n",
    "print('a' + 'b')\n",
    "print('a' + ' ' + 'b')\n",
    "print('This' + 'is' + 'a' + 'sentence.')\n",
    "print('This' + ' ' + 'is' + ' ' + 'a' + ' ' + 'sentence.')\n",
    "\n",
    "\n",
    "\n",
    "#We call the process of linking two or more strings together concatenation.\n",
    "#We can also concatenate a string with one or more copies\n",
    "#of itself using the * operator followed by a number that specifies how many times to multiply the string:\n",
    "\n",
    "\n",
    "\n"
   ]
  },
  {
   "cell_type": "code",
   "execution_count": 11,
   "id": "260308c7",
   "metadata": {},
   "outputs": [
    {
     "name": "stdout",
     "output_type": "stream",
     "text": [
      "Facebook's old motto was 'move fast and break things'. \n",
      "Facebook's new motto is 'move fast with stable infra'.\n"
     ]
    }
   ],
   "source": [
    "#multiple strings\n",
    "motto = '''Facebook's old motto was 'move fast and break things'. \n",
    "Facebook's new motto is 'move fast with stable infra'.'''\n",
    "\n",
    "\n",
    "print(motto)"
   ]
  },
  {
   "cell_type": "code",
   "execution_count": 6,
   "id": "d2c881da",
   "metadata": {},
   "outputs": [
    {
     "name": "stdout",
     "output_type": "stream",
     "text": [
      "Facebook's rating is 3.5\n"
     ]
    }
   ],
   "source": [
    "facebook = \"Facebook's rating is\"\n",
    "fb_rating_str = \"3.5\"\n",
    "fb = \"Facebook's\"  +  ' '  +  \"rating\"     +  ' ' +  \"is\" + ' '      +       \"3.5\"\n",
    "print(fb)"
   ]
  },
  {
   "cell_type": "code",
   "execution_count": 7,
   "id": "29d0b067",
   "metadata": {},
   "outputs": [
    {
     "data": {
      "text/plain": [
       "100"
      ]
     },
     "execution_count": 7,
     "metadata": {},
     "output_type": "execute_result"
    }
   ],
   "source": [
    "round(99.99)\n"
   ]
  },
  {
   "cell_type": "code",
   "execution_count": 7,
   "id": "023ec571",
   "metadata": {},
   "outputs": [
    {
     "name": "stdout",
     "output_type": "stream",
     "text": [
      "Facebook's rating is 3.5\n"
     ]
    }
   ],
   "source": [
    "#conversion\n",
    "facebook = \"Facebook's rating is\"\n",
    "fb_rating = 3.5\n",
    "fb_rating_str = str(3.5)\n",
    "fb = \"Facebook's\" + ' ' + \"rating\" + ' ' + \"is\" + ' ' + \"3.5\"\n",
    "print(fb)"
   ]
  },
  {
   "cell_type": "code",
   "execution_count": 22,
   "id": "4fd473d8",
   "metadata": {},
   "outputs": [
    {
     "name": "stdout",
     "output_type": "stream",
     "text": [
      "Agbaya\n",
      "Hello world\n"
     ]
    }
   ],
   "source": [
    "X = 'Agbaya'\n",
    "Y = 'Hello world'\n",
    "print (X)\n",
    "print (Y)"
   ]
  },
  {
   "cell_type": "code",
   "execution_count": 23,
   "id": "6ab45994",
   "metadata": {},
   "outputs": [
    {
     "name": "stdout",
     "output_type": "stream",
     "text": [
      "Abubakar\n"
     ]
    }
   ],
   "source": [
    "x = 4\n",
    "x = 'Abubakar'\n",
    "print(x)"
   ]
  },
  {
   "cell_type": "code",
   "execution_count": 8,
   "id": "8e7f59b4",
   "metadata": {},
   "outputs": [
    {
     "name": "stdout",
     "output_type": "stream",
     "text": [
      "X, Y\n"
     ]
    }
   ],
   "source": [
    "print (\"X, Y\")"
   ]
  },
  {
   "cell_type": "code",
   "execution_count": 13,
   "id": "d8d0c099",
   "metadata": {},
   "outputs": [
    {
     "name": "stdout",
     "output_type": "stream",
     "text": [
      "Hello, world!\n"
     ]
    }
   ],
   "source": [
    "#PRINT ('HELLO WORLD')\n",
    "print ('Hello, world!')"
   ]
  },
  {
   "cell_type": "code",
   "execution_count": 15,
   "id": "19516338",
   "metadata": {},
   "outputs": [
    {
     "name": "stdout",
     "output_type": "stream",
     "text": [
      "Hello, world!\n"
     ]
    }
   ],
   "source": [
    "#This is a comment\n",
    "#Written in\n",
    "#more than\n",
    "#just one line\n",
    "print ('Hello, world!')"
   ]
  },
  {
   "cell_type": "code",
   "execution_count": 16,
   "id": "a8d2a778",
   "metadata": {},
   "outputs": [
    {
     "name": "stdout",
     "output_type": "stream",
     "text": [
      "Hello,world!\n"
     ]
    }
   ],
   "source": [
    "\"\"\"\n",
    "This is a comment\n",
    "written in \n",
    "more than just one line\n",
    "\"\"\"\n",
    "print ('Hello,world!')"
   ]
  },
  {
   "cell_type": "code",
   "execution_count": 31,
   "id": "04538966",
   "metadata": {},
   "outputs": [
    {
     "name": "stdout",
     "output_type": "stream",
     "text": [
      "3.0\n"
     ]
    }
   ],
   "source": [
    "#casting is used to specify the data type of a variable.\n",
    "x = str(3)\n",
    "x = int(3)\n",
    "x = float(3.0)\n",
    "print(x)"
   ]
  },
  {
   "cell_type": "code",
   "execution_count": 36,
   "id": "a55aa64f",
   "metadata": {},
   "outputs": [
    {
     "name": "stdout",
     "output_type": "stream",
     "text": [
      "<class 'float'>\n",
      "<class 'str'>\n"
     ]
    }
   ],
   "source": [
    "#type() is used to get the data type of any variable\n",
    "x = 4.6\n",
    "y = 'John'\n",
    "print(type(x))\n",
    "print(type(y))"
   ]
  },
  {
   "cell_type": "code",
   "execution_count": 37,
   "id": "405f03bb",
   "metadata": {},
   "outputs": [
    {
     "name": "stdout",
     "output_type": "stream",
     "text": [
      "John\n"
     ]
    }
   ],
   "source": [
    "x = 'John'\n",
    "x = \"John\"\n",
    "print(x)"
   ]
  },
  {
   "cell_type": "code",
   "execution_count": 38,
   "id": "469ecaa8",
   "metadata": {},
   "outputs": [
    {
     "name": "stdout",
     "output_type": "stream",
     "text": [
      "7\n"
     ]
    }
   ],
   "source": [
    "#Variable names are case sensitive\n",
    "q = 7\n",
    "Q = 'Sandro'\n",
    "print(q)"
   ]
  },
  {
   "cell_type": "code",
   "execution_count": 41,
   "id": "eaec1dde",
   "metadata": {},
   "outputs": [
    {
     "name": "stdout",
     "output_type": "stream",
     "text": [
      "john\n"
     ]
    }
   ],
   "source": [
    "#Legal variable names\n",
    "myvar = 'james'\n",
    "_my_var = 'john'\n",
    "MYVAR ='John'\n",
    "myvar2 = 'John'\n",
    "print(_my_var)"
   ]
  },
  {
   "cell_type": "code",
   "execution_count": 42,
   "id": "a78c6d78",
   "metadata": {},
   "outputs": [
    {
     "ename": "SyntaxError",
     "evalue": "invalid syntax (2835172853.py, line 2)",
     "output_type": "error",
     "traceback": [
      "\u001b[1;36m  Input \u001b[1;32mIn [42]\u001b[1;36m\u001b[0m\n\u001b[1;33m    2myvar = 'john'\u001b[0m\n\u001b[1;37m     ^\u001b[0m\n\u001b[1;31mSyntaxError\u001b[0m\u001b[1;31m:\u001b[0m invalid syntax\n"
     ]
    }
   ],
   "source": [
    "#Illegal variable names\n",
    "2myvar = 'john'\n",
    "-myvar = 'john'\n",
    "my Var = 'john'\n",
    "print(my Var)"
   ]
  },
  {
   "cell_type": "code",
   "execution_count": 43,
   "id": "bc483ea5",
   "metadata": {},
   "outputs": [
    {
     "name": "stdout",
     "output_type": "stream",
     "text": [
      "john\n"
     ]
    }
   ],
   "source": [
    "\"\"\"\n",
    "Multi Words Variable Names\n",
    "Variable names with more than one word can be difficult to read.\n",
    "\n",
    "There are several techniques you can use to make them more readable:\n",
    "\n",
    "Camel Case\n",
    "Each word, except the first, starts with a capital letter:\n",
    "\"\"\"\n",
    "myVariableName = 'john'\n",
    "print(myVariableName)"
   ]
  },
  {
   "cell_type": "code",
   "execution_count": 44,
   "id": "d1be8498",
   "metadata": {},
   "outputs": [
    {
     "name": "stdout",
     "output_type": "stream",
     "text": [
      "james\n"
     ]
    }
   ],
   "source": [
    "#Pascal Case\n",
    "#Each word starts with a capital letter:\n",
    "MyVariableName = 'james'\n",
    "print(MyVariableName)"
   ]
  },
  {
   "cell_type": "code",
   "execution_count": 45,
   "id": "4f28a597",
   "metadata": {},
   "outputs": [
    {
     "name": "stdout",
     "output_type": "stream",
     "text": [
      "sandro\n"
     ]
    }
   ],
   "source": [
    "#Snake Case\n",
    "#Each word is separated by an underscore character:\n",
    "my_variable_name = 'sandro'\n",
    "print(my_variable_name)"
   ]
  },
  {
   "cell_type": "code",
   "execution_count": 46,
   "id": "10476045",
   "metadata": {},
   "outputs": [
    {
     "name": "stdout",
     "output_type": "stream",
     "text": [
      "i am a girl\n",
      "5.50\n",
      "Kosi is our facilitator\n"
     ]
    }
   ],
   "source": [
    "#Many Values to Multiple Variables\n",
    "#Python allows you to assign values to multiple variables in one line:\n",
    "x, y, z = 'i am a girl', '5.50', 'Kosi is our facilitator'\n",
    "print(x)\n",
    "print(y)\n",
    "print(z)"
   ]
  },
  {
   "cell_type": "code",
   "execution_count": 3,
   "id": "660eaccf",
   "metadata": {},
   "outputs": [
    {
     "ename": "FileNotFoundError",
     "evalue": "[Errno 2] No such file or directory: 'secretpasswordFile.txt'",
     "output_type": "error",
     "traceback": [
      "\u001b[1;31m---------------------------------------------------------------------------\u001b[0m",
      "\u001b[1;31mFileNotFoundError\u001b[0m                         Traceback (most recent call last)",
      "Input \u001b[1;32mIn [3]\u001b[0m, in \u001b[0;36m<cell line: 1>\u001b[1;34m()\u001b[0m\n\u001b[1;32m----> 1\u001b[0m passwordFile \u001b[38;5;241m=\u001b[39m \u001b[38;5;28;43mopen\u001b[39;49m\u001b[43m(\u001b[49m\u001b[38;5;124;43m'\u001b[39;49m\u001b[38;5;124;43msecretpasswordFile.txt\u001b[39;49m\u001b[38;5;124;43m'\u001b[39;49m\u001b[43m)\u001b[49m\n\u001b[0;32m      2\u001b[0m secretPassword \u001b[38;5;241m=\u001b[39m passwordFile\u001b[38;5;241m.\u001b[39mread()\n\u001b[0;32m      3\u001b[0m \u001b[38;5;28mprint\u001b[39m(\u001b[38;5;124m'\u001b[39m\u001b[38;5;124mEnter your password.\u001b[39m\u001b[38;5;124m'\u001b[39m)\n",
      "\u001b[1;31mFileNotFoundError\u001b[0m: [Errno 2] No such file or directory: 'secretpasswordFile.txt'"
     ]
    }
   ],
   "source": [
    "passwordFile = open('secretpasswordFile.txt')\n",
    "secretPassword = passwordFile.read()\n",
    "print('Enter your password.')\n",
    "typedPassword = input()\n",
    "if typedPassword == secretPassword:\n",
    "    print('Access granted')\n",
    "    if typedPassword == '12345':\n",
    "        print('That password is one that an idiot puts on their luggage')\n",
    "    else:\n",
    "        print('Access denied')\n"
   ]
  },
  {
   "cell_type": "code",
   "execution_count": 4,
   "id": "ff15eaab",
   "metadata": {},
   "outputs": [
    {
     "name": "stdout",
     "output_type": "stream",
     "text": [
      "Maggot\n",
      "Maggot\n",
      "Maggot\n"
     ]
    }
   ],
   "source": [
    "#One Value to Multiple Variables\n",
    "#And you can assign the same value to multiple variables in one line:\n",
    "X = Y = Z = 'Maggot'\n",
    "print(X)\n",
    "print(Y)\n",
    "print(Z)"
   ]
  },
  {
   "cell_type": "code",
   "execution_count": 1,
   "id": "47018f02",
   "metadata": {},
   "outputs": [
    {
     "name": "stdout",
     "output_type": "stream",
     "text": [
      "Orange\n",
      "Orange\n",
      "Orange\n"
     ]
    }
   ],
   "source": []
  },
  {
   "cell_type": "code",
   "execution_count": 1,
   "id": "d3bf05f0",
   "metadata": {},
   "outputs": [
    {
     "name": "stdout",
     "output_type": "stream",
     "text": [
      "apple\n",
      "banana\n",
      "cherry\n"
     ]
    }
   ],
   "source": [
    "fruits = [\"apple\", \"banana\", \"cherry\"]\n",
    "x, y, z = fruits\n",
    "print(x)\n",
    "print(y)\n",
    "print(z)"
   ]
  },
  {
   "cell_type": "code",
   "execution_count": 5,
   "id": "0e506f41",
   "metadata": {},
   "outputs": [],
   "source": [
    "#list is represented with [], is mutable and can be changed\n",
    "A = [1,2,6,0.23,\"Forgive\",\"let go\"]"
   ]
  },
  {
   "cell_type": "code",
   "execution_count": 6,
   "id": "c945147d",
   "metadata": {},
   "outputs": [
    {
     "name": "stdout",
     "output_type": "stream",
     "text": [
      "[1, 2, 6, 0.23, 'Forgive', 'let go']\n"
     ]
    }
   ],
   "source": [
    "print(A)"
   ]
  },
  {
   "cell_type": "code",
   "execution_count": 8,
   "id": "13036d57",
   "metadata": {},
   "outputs": [
    {
     "name": "stdout",
     "output_type": "stream",
     "text": [
      "6\n"
     ]
    }
   ],
   "source": [
    "print(len(A))\n"
   ]
  },
  {
   "cell_type": "code",
   "execution_count": 10,
   "id": "73786989",
   "metadata": {},
   "outputs": [
    {
     "name": "stdout",
     "output_type": "stream",
     "text": [
      "let go\n"
     ]
    }
   ],
   "source": [
    "print(A[5])\n"
   ]
  },
  {
   "cell_type": "code",
   "execution_count": 11,
   "id": "9a0494f3",
   "metadata": {},
   "outputs": [],
   "source": [
    "A[5] = \"forgive and forget\""
   ]
  },
  {
   "cell_type": "code",
   "execution_count": 12,
   "id": "3a18f400",
   "metadata": {},
   "outputs": [
    {
     "name": "stdout",
     "output_type": "stream",
     "text": [
      "[1, 2, 6, 0.23, 'Forgive', 'forgive and forget']\n"
     ]
    }
   ],
   "source": [
    "print(A)"
   ]
  },
  {
   "cell_type": "code",
   "execution_count": 15,
   "id": "02105ac4",
   "metadata": {},
   "outputs": [
    {
     "name": "stdout",
     "output_type": "stream",
     "text": [
      "[6, 0.23, 'Forgive']\n"
     ]
    }
   ],
   "source": [
    "print(A[2:5])"
   ]
  },
  {
   "cell_type": "code",
   "execution_count": 22,
   "id": "e79bcc32",
   "metadata": {},
   "outputs": [],
   "source": [
    "#Tuple is represented with () bracket, is not mutable and cannot be changed\n",
    "Gbenga = (30.5,\"glory to God\",\"glassy\",21,\"mind\")"
   ]
  },
  {
   "cell_type": "code",
   "execution_count": 23,
   "id": "79629162",
   "metadata": {},
   "outputs": [
    {
     "name": "stdout",
     "output_type": "stream",
     "text": [
      "(30.5, 'glory to God', 'glassy', 21, 'mind')\n"
     ]
    }
   ],
   "source": [
    "print(Gbenga)"
   ]
  },
  {
   "cell_type": "code",
   "execution_count": 24,
   "id": "0ebea822",
   "metadata": {},
   "outputs": [
    {
     "data": {
      "text/plain": [
       "'glory to God'"
      ]
     },
     "execution_count": 24,
     "metadata": {},
     "output_type": "execute_result"
    }
   ],
   "source": [
    "#indexing\n",
    "Gbenga[1]"
   ]
  },
  {
   "cell_type": "code",
   "execution_count": 28,
   "id": "1d287f18",
   "metadata": {},
   "outputs": [
    {
     "data": {
      "text/plain": [
       "('glory to God', 'glassy', 21, 'mind')"
      ]
     },
     "execution_count": 28,
     "metadata": {},
     "output_type": "execute_result"
    }
   ],
   "source": [
    "#reference\n",
    "Gbenga[1:]"
   ]
  },
  {
   "cell_type": "code",
   "execution_count": 2,
   "id": "408cca13",
   "metadata": {},
   "outputs": [
    {
     "name": "stdout",
     "output_type": "stream",
     "text": [
      "Facebook\n",
      "Instagram\n",
      "Clash of Clans\n",
      "Fruit Ninja Classic\n",
      "Minecraft: Pocket Edition\n"
     ]
    }
   ],
   "source": [
    "#FOR LOOP:  which helps us repeat a process hundreds, thousands, or even millions of times. \n",
    "app_names = ['Facebook', 'Instagram', 'Clash of Clans', 'Fruit Ninja Classic', 'Minecraft: Pocket Edition']\n",
    "for element in app_names:\n",
    "    print(element)"
   ]
  },
  {
   "cell_type": "code",
   "execution_count": 13,
   "id": "e3b9992a",
   "metadata": {},
   "outputs": [
    {
     "name": "stdout",
     "output_type": "stream",
     "text": [
      "USD\n",
      "USD\n",
      "USD\n",
      "USD\n",
      "USD\n"
     ]
    }
   ],
   "source": [
    "value_1 = ['Facebook', 0.0, 'USD', 2974676, 3.5]\n",
    "value_2 = ['Instagram', 0.0, 'USD', 2161558, 4.5]\n",
    "value_3 = ['Clash of Clans', 0.0, 'USD', 2130805, 4.5]\n",
    "value_4 = ['Fruit Ninja Classic', 1.99, 'USD', 698516, 4.5]\n",
    "value_5 = ['Minecraft: Pocket Edition', 6.99, 'USD', 522012, 4.5]\n",
    "\n",
    "app_data_set = [row_1, row_2, row_3, row_4, row_5]\n",
    "\n",
    "for value in app_data_set:\n",
    "    rating = value[-3]\n",
    "    print(rating)"
   ]
  },
  {
   "cell_type": "code",
   "execution_count": 12,
   "id": "6bc991ab",
   "metadata": {},
   "outputs": [
    {
     "name": "stdout",
     "output_type": "stream",
     "text": [
      "['Minecraft: Pocket Edition', 6.99, 'USD', 522012, 4.5]\n",
      "['Minecraft: Pocket Edition', 6.99, 'USD', 522012, 4.5]\n",
      "['Minecraft: Pocket Edition', 6.99, 'USD', 522012, 4.5]\n",
      "['Minecraft: Pocket Edition', 6.99, 'USD', 522012, 4.5]\n",
      "['Minecraft: Pocket Edition', 6.99, 'USD', 522012, 4.5]\n"
     ]
    }
   ],
   "source": [
    "for row in app_data_set:\n",
    "    print(value)"
   ]
  },
  {
   "cell_type": "code",
   "execution_count": 15,
   "id": "e622898c",
   "metadata": {},
   "outputs": [
    {
     "name": "stdout",
     "output_type": "stream",
     "text": [
      "['car', 'german', 87.9, 'colgate']\n",
      "['clock', 'clan', 90.56, 'face']\n",
      "['company', 'coach', 58, 'scent']\n"
     ]
    }
   ],
   "source": [
    "Gbenga = ['car', 'german', 87.90, 'colgate']\n",
    "House = ['clock', 'clan', 90.56, 'face']\n",
    "Ascend = ['company', 'coach', 58, 'scent']\n",
    "Data_set = [Gbenga, House, Ascend]\n",
    "for n in Data_set:\n",
    "    print(n)\n"
   ]
  },
  {
   "cell_type": "code",
   "execution_count": null,
   "id": "62496a9d",
   "metadata": {},
   "outputs": [],
   "source": []
  }
 ],
 "metadata": {
  "kernelspec": {
   "display_name": "Python 3 (ipykernel)",
   "language": "python",
   "name": "python3"
  },
  "language_info": {
   "codemirror_mode": {
    "name": "ipython",
    "version": 3
   },
   "file_extension": ".py",
   "mimetype": "text/x-python",
   "name": "python",
   "nbconvert_exporter": "python",
   "pygments_lexer": "ipython3",
   "version": "3.9.12"
  }
 },
 "nbformat": 4,
 "nbformat_minor": 5
}
